{
 "cells": [
  {
   "cell_type": "code",
   "execution_count": 17,
   "metadata": {},
   "outputs": [],
   "source": [
    "import os\n",
    "import csv\n",
    "from collections import defaultdict"
   ]
  },
  {
   "cell_type": "code",
   "execution_count": 18,
   "metadata": {},
   "outputs": [],
   "source": [
    "from surprise import BaselineOnly\n",
    "from surprise import Dataset\n",
    "from surprise import Reader\n",
    "from surprise import SVD\n",
    "from surprise import accuracy\n",
    "from surprise.model_selection import cross_validate\n",
    "from surprise.model_selection import train_test_split"
   ]
  },
  {
   "cell_type": "code",
   "execution_count": 19,
   "metadata": {},
   "outputs": [
    {
     "data": {
      "text/plain": [
       "0"
      ]
     },
     "execution_count": 19,
     "metadata": {},
     "output_type": "execute_result"
    }
   ],
   "source": [
    "pr_file_path=\"C:/apache-tomcat-7.0.34/webapps/AS5/webdata\"\n",
    "os.chdir('C:/Program Files/MongoDB/Server/3.2/bin')\n",
    "os.system(r'mongoexport --db CustomerReviews --collection myReviews --type=csv --fields username,productName,rating >'+pr_file_path+'/mongodata_train.csv')"
   ]
  },
  {
   "cell_type": "code",
   "execution_count": 20,
   "metadata": {},
   "outputs": [
    {
     "name": "stdout",
     "output_type": "stream",
     "text": [
      "Rudresh ['Fossil - Gen 5 44mm Stainless Steel - Black with Brown Leather Band', 'Skullcandy - Venue Wireless Noise Canceling Over-the-Ear Headphones - Black', '\"Sony - 55\"\" Class - LED - X900F Series - 2160p - Smart - 4K Ultra HD TV with HDR\"']\n",
      "\n",
      "\n",
      "Jay ['\"LG - 65\"\" Class - LED - UK6090PUA Series - 2160p - Smart - 4K UHD TV with HDR\"', 'Fossil - Gen 5 44mm Stainless Steel - Black with Brown Leather Band', 'Skullcandy - Venue Wireless Noise Canceling Over-the-Ear Headphones - Black']\n",
      "\n",
      "\n",
      "Shubham Patel ['Skullcandy - Venue Wireless Noise Canceling Over-the-Ear Headphones - Black', '\"LG - 65\"\" Class - LED - UK6090PUA Series - 2160p - Smart - 4K UHD TV with HDR\"', '\"Sony - 55\"\" Class - LED - X900F Series - 2160p - Smart - 4K Ultra HD TV with HDR\"']\n",
      "\n",
      "\n",
      "Vidhi Amin ['Skullcandy - Venue Wireless Noise Canceling Over-the-Ear Headphones - Black', 'Fossil - Gen 5 44mm Stainless Steel - Black with Brown Leather Band', '\"LG - 65\"\" Class - LED - UK6090PUA Series - 2160p - Smart - 4K UHD TV with HDR\"']\n",
      "\n",
      "\n",
      "Krusha Patel ['\"LG - 65\"\" Class - LED - UK6090PUA Series - 2160p - Smart - 4K UHD TV with HDR\"', 'Fossil - Gen 5 44mm Stainless Steel - Black with Brown Leather Band', 'Skullcandy - Venue Wireless Noise Canceling Over-the-Ear Headphones - Black']\n",
      "\n",
      "\n",
      "Arpit Patel ['\"Sony - 55\"\" Class - LED - X900F Series - 2160p - Smart - 4K Ultra HD TV with HDR\"', '\"LG - 65\"\" Class - LED - UK6090PUA Series - 2160p - Smart - 4K UHD TV with HDR\"', 'Fossil - Gen 5 44mm Stainless Steel - Black with Brown Leather Band']\n",
      "\n",
      "\n",
      "Darsh Patel ['\"LG - 65\"\" Class - LED - UK6090PUA Series - 2160p - Smart - 4K UHD TV with HDR\"', 'Apple - iPhone 11 Pro 256GB - Space Gray', 'Skullcandy - Venue Wireless Noise Canceling Over-the-Ear Headphones - Black']\n",
      "\n",
      "\n",
      "Harsh Thakkar ['\"LG - 65\"\" Class - LED - UK6090PUA Series - 2160p - Smart - 4K UHD TV with HDR\"', 'Apple - Apple Watch Series 5 (GPS) 44mm Space Gray Aluminum Case with Black Sport Band - Space Gray Aluminum', '\"Sony - 55\"\" Class - LED - X900F Series - 2160p - Smart - 4K Ultra HD TV with HDR\"']\n",
      "\n",
      "\n",
      "Jayraj Dave ['\"LG - 65\"\" Class - LED - UK6090PUA Series - 2160p - Smart - 4K UHD TV with HDR\"', '\"Sony - 55\"\" Class - LED - X900F Series - 2160p - Smart - 4K Ultra HD TV with HDR\"', '\"LG - 75\"\" Class - LED - UK6190 Series - 2160p - Smart - 4K UHD TV with HDR\"']\n",
      "\n",
      "\n"
     ]
    }
   ],
   "source": [
    "with open(pr_file_path+\"/mongodata_train.csv\", \"r\") as f:\n",
    "    reader = csv.DictReader(f, delimiter=',')\n",
    "    with open(pr_file_path+\"/mongodata_test.csv\", \"w\",newline='') as f_out:\n",
    "        writer = csv.DictWriter(f_out, fieldnames=reader.fieldnames, delimiter=\",\")\n",
    "        for row in reader:\n",
    "            writer.writerow(row)\n",
    "            \n",
    "file_path = os.path.expanduser(pr_file_path+'/mongodata_test.csv')\n",
    "\n",
    "# As we're loading a custom dataset, we need to define a reader. In the\n",
    "# movielens-100k dataset, each line has the following format:\n",
    "# 'user item rating timestamp', separated by '\\t' characters.\n",
    "reader = Reader(line_format='user item rating', sep=',')\n",
    "\n",
    "#data = Dataset.load_from_file(file_path, reader=reader)\n",
    "\n",
    "def get_top_n(predictions, n=10):\n",
    "    '''Return the top-N recommendation for each user from a set of predictions.\n",
    "\n",
    "    Args:\n",
    "        predictions(list of Prediction objects): The list of predictions, as\n",
    "            returned by the test method of an algorithm.\n",
    "        n(int): The number of recommendation to output for each user. Default\n",
    "            is 10.\n",
    "\n",
    "    Returns:\n",
    "    A dict where keys are user (raw) ids and values are lists of tuples:\n",
    "        [(raw item id, rating estimation), ...] of size n.\n",
    "    '''\n",
    "\n",
    "    # First map the predictions to each user.\n",
    "    top_n = defaultdict(list)\n",
    "    for uid, iid, true_r, est, _ in predictions:\n",
    "        top_n[uid].append((iid, est))\n",
    "\n",
    "    # Then sort the predictions for each user and retrieve the k highest ones.\n",
    "    for uid, user_ratings in top_n.items():\n",
    "        user_ratings.sort(key=lambda x: x[1], reverse=True)\n",
    "        top_n[uid] = user_ratings[:n]\n",
    "\n",
    "    return top_n\n",
    "\n",
    "# First train an SVD algorithm on the movielens dataset.\n",
    "data = Dataset.load_from_file(file_path, reader=reader)\n",
    "trainset = data.build_full_trainset()\n",
    "algo = SVD()\n",
    "algo.fit(trainset)\n",
    "\n",
    "# Than predict ratings for all pairs (u, i) that are NOT in the training set.\n",
    "testset = trainset.build_anti_testset()\n",
    "predictions = algo.test(testset)\n",
    "\n",
    "top_n = get_top_n(predictions, n=3)\n",
    "\n",
    "# Print the recommended items for each user\n",
    "for uid, user_ratings in top_n.items():\n",
    "    print(uid, [iid for (iid, _) in user_ratings])\n",
    "    print(\"\\n\")\n",
    "out = open(pr_file_path+'/output.csv', 'w',newline='')\n",
    "output=csv.writer(out)\n",
    "\n",
    "for uid, user_ratings in top_n.items():\n",
    "    output.writerow([uid, [iid for (iid, _) in user_ratings]])\n",
    "    \n",
    "out.close()\n"
   ]
  },
  {
   "cell_type": "code",
   "execution_count": null,
   "metadata": {},
   "outputs": [],
   "source": []
  },
  {
   "cell_type": "code",
   "execution_count": null,
   "metadata": {},
   "outputs": [],
   "source": []
  },
  {
   "cell_type": "code",
   "execution_count": null,
   "metadata": {},
   "outputs": [],
   "source": []
  },
  {
   "cell_type": "code",
   "execution_count": null,
   "metadata": {},
   "outputs": [],
   "source": []
  }
 ],
 "metadata": {
  "anaconda-cloud": {},
  "kernelspec": {
   "display_name": "Python 3",
   "language": "python",
   "name": "python3"
  },
  "language_info": {
   "codemirror_mode": {
    "name": "ipython",
    "version": 3
   },
   "file_extension": ".py",
   "mimetype": "text/x-python",
   "name": "python",
   "nbconvert_exporter": "python",
   "pygments_lexer": "ipython3",
   "version": "3.7.4"
  }
 },
 "nbformat": 4,
 "nbformat_minor": 1
}
